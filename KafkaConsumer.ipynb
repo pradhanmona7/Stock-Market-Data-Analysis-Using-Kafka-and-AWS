{
 "cells": [
  {
   "cell_type": "code",
   "execution_count": null,
   "id": "1c87eebd-8ead-47d2-a2dd-99c8012570d2",
   "metadata": {},
   "outputs": [],
   "source": [
    "pip install s3fs"
   ]
  },
  {
   "cell_type": "code",
   "execution_count": 1,
   "id": "9bc9727e-cfd2-4330-83ec-f43f88e43ac2",
   "metadata": {},
   "outputs": [],
   "source": [
    "from kafka import KafkaConsumer\n",
    "from time import sleep\n",
    "from json import dumps,loads\n",
    "import json\n",
    "from s3fs import S3FileSystem"
   ]
  },
  {
   "cell_type": "code",
   "execution_count": 2,
   "id": "924ead9f-28c0-40b7-a5ef-abb521050b4c",
   "metadata": {},
   "outputs": [],
   "source": [
    "consumer = KafkaConsumer(\n",
    "    'kafka',\n",
    "    bootstrap_servers=['18.116.69.77:9092'],\n",
    "    value_deserializer = lambda x:\n",
    "    loads(x.decode('utf-8'))\n",
    ")"
   ]
  },
  {
   "cell_type": "code",
   "execution_count": 8,
   "id": "b169ea1c-8355-4355-a4f9-2c1d95694dc7",
   "metadata": {},
   "outputs": [],
   "source": [
    "# for c in consumer:\n",
    "#     print (c.value)"
   ]
  },
  {
   "cell_type": "code",
   "execution_count": 3,
   "id": "525c3f3d-7793-45a5-b4c6-ef7fa2032199",
   "metadata": {},
   "outputs": [],
   "source": [
    "s3 = S3FileSystem()"
   ]
  },
  {
   "cell_type": "code",
   "execution_count": null,
   "id": "a4f9e3a9-a860-4d83-8b08-92c84f4df8fa",
   "metadata": {},
   "outputs": [],
   "source": [
    "for count, i in enumerate(consumer):\n",
    "    with s3.open(\"s3://aditsvet-dev-bucket/stock_market_{}.json\".format(count), 'w') as file:\n",
    "        json.dump(i.value,file)\n",
    "    "
   ]
  },
  {
   "cell_type": "code",
   "execution_count": null,
   "id": "9d5da4f8-99ab-419c-9da0-e4e5795cd269",
   "metadata": {},
   "outputs": [],
   "source": []
  }
 ],
 "metadata": {
  "kernelspec": {
   "display_name": "Python 3 (ipykernel)",
   "language": "python",
   "name": "python3"
  },
  "language_info": {
   "codemirror_mode": {
    "name": "ipython",
    "version": 3
   },
   "file_extension": ".py",
   "mimetype": "text/x-python",
   "name": "python",
   "nbconvert_exporter": "python",
   "pygments_lexer": "ipython3",
   "version": "3.12.1"
  }
 },
 "nbformat": 4,
 "nbformat_minor": 5
}
